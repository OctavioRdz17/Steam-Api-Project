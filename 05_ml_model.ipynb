{
 "cells": [
  {
   "cell_type": "markdown",
   "metadata": {},
   "source": [
    "K-neighbors es lo recomendado para medir similaridad en datasets grandes por su eficiencia. Además, si se quiere extender la funcionalidad hacia user-item recommendation, es ideal también. En este modelo se puede definir distintas medidas de similaridad como distancia euclidiana o cosine similarity. \n",
    "Lo más importante es escoger correctamente los features a ingresar en la matriz, deben ser relevantes. -- Falta revisar si el método tfidf tiene un tope de palabras y si se puede asignar stopwords en español. \n"
   ]
  },
  {
   "cell_type": "markdown",
   "metadata": {},
   "source": [
    "-- Columnas a usar: genres, developer, tags, specs"
   ]
  },
  {
   "cell_type": "markdown",
   "metadata": {},
   "source": [
    "# 1. Transformación del dataset para el modelo  "
   ]
  },
  {
   "cell_type": "code",
   "execution_count": null,
   "metadata": {},
   "outputs": [],
   "source": [
    "import pandas as pd\n",
    "\n",
    "games = pd.read_csv('datasets/steam_games.csv')"
   ]
  },
  {
   "cell_type": "code",
   "execution_count": null,
   "metadata": {},
   "outputs": [],
   "source": [
    "games['release_date'] = pd.to_datetime(games['release_date'], errors='coerce')\n",
    "games['release_year'] = games['release_date'].dt.year\n",
    "games['release_year'] = games['release_year'].fillna(0).astype(int)\n",
    "games['release_year'] = games['release_year'].astype('str').replace('0', '')"
   ]
  },
  {
   "cell_type": "code",
   "execution_count": null,
   "metadata": {},
   "outputs": [],
   "source": [
    "games.fillna('', inplace=True)\n",
    "\n",
    "games.drop(games[games['title'] == \"\"].index, inplace=True)\n",
    "games.shape"
   ]
  },
  {
   "cell_type": "code",
   "execution_count": null,
   "metadata": {},
   "outputs": [],
   "source": [
    "# Aplica la función de unión con guión a la columna 'developer'\n",
    "games['developer'] = games['developer'].str.replace(r'\\s+', '-', regex=True)\n",
    "games['developer'] = games['developer'].str.replace(r'---', \"-\")"
   ]
  },
  {
   "cell_type": "code",
   "execution_count": null,
   "metadata": {},
   "outputs": [],
   "source": [
    "import re\n",
    "import ast\n",
    "\n",
    "# función de limpieza de las columnas\n",
    "def tolist(lst):\n",
    "    text= \"\"\n",
    "    if isinstance(lst, str) and len(lst) > 0 and '[' in lst:\n",
    "        lst = lst.lower()\n",
    "        lst = lst.replace(\"0's\",'0s').replace(';','').replace('&','').replace(\"'em\",\"em\")\n",
    "        try:\n",
    "            lst =  ast.literal_eval(lst)\n",
    "        except (SyntaxError, ValueError):\n",
    "            return lst.lower()\n",
    "        \n",
    "    if isinstance(lst,list):\n",
    "        for item in lst:\n",
    "            while \"  \" in item:\n",
    "                item = item.replace(\"  \",\" \")\n",
    "            item = item.replace(\" \", \"-\")\n",
    "            text = text + \" \" + item \n",
    "            text = text.replace('\"','')\n",
    "        return text.strip().lower()\n",
    "\n",
    "    return lst"
   ]
  },
  {
   "cell_type": "code",
   "execution_count": null,
   "metadata": {},
   "outputs": [],
   "source": [
    "# aplicamos la limpieza a cada columna \n",
    "games['specs'] = games['specs'].apply(lambda x : tolist(x))\n",
    "games['genres'] = games['genres'].apply(lambda x : tolist(x))\n",
    "games['tags'] = games['tags'].apply(lambda x : tolist(x))"
   ]
  },
  {
   "cell_type": "code",
   "execution_count": null,
   "metadata": {},
   "outputs": [],
   "source": [
    "# Combine relevant columns into a single 'profile'\n",
    "games['profile'] = games['genres'] + \" \" + games['tags'] + \" \" + games['specs'] + \" \" + games['developer'] + \" \" + games['release_year']\n",
    "\n",
    "# Dataset listo para usarse en el modelo\n",
    "games[['id','title','profile']].to_csv(r'./datasets/game_profile.csv',index=False)"
   ]
  },
  {
   "cell_type": "markdown",
   "metadata": {},
   "source": [
    "# 2. Entrenamiento del modelo"
   ]
  },
  {
   "cell_type": "code",
   "execution_count": null,
   "metadata": {},
   "outputs": [],
   "source": [
    "import pandas as pd\n",
    "from sklearn.feature_extraction.text import TfidfVectorizer\n",
    "from sklearn.neighbors import NearestNeighbors\n",
    "\n",
    "df = pd.read_csv(r'./datasets/game_profile.csv')\n",
    "\n",
    "# Create a TF-IDF Vectorizer to transform the 'profile' into numerical data\n",
    "tfidf = TfidfVectorizer(stop_words='english',max_features=5000)\n",
    "tfidf_matrix = tfidf.fit_transform(df['profile'])\n",
    "\n",
    "# Use k-NN to find similar games\n",
    "knn = NearestNeighbors(n_neighbors=6, metric='cosine', algorithm='brute')  # Using 6 neighbors to include the game itself\n",
    "knn.fit(tfidf_matrix)"
   ]
  },
  {
   "cell_type": "code",
   "execution_count": null,
   "metadata": {},
   "outputs": [],
   "source": [
    "# Crear función que crea las recomendaciones\n",
    "def recommend(game_id):\n",
    "    try:\n",
    "        idx = df.index[df['id'] == game_id].tolist()[0]\n",
    "        name = df['title'].loc[idx]\n",
    "        # print(f'Porque te gusto \"{name}\" te recomendamos:')\n",
    "        values , indices = knn.kneighbors(tfidf_matrix[idx])\n",
    "        \n",
    "        # Exclude the first (index 0) since it'll be the game itself\n",
    "        game_indices = indices[0][1:]\n",
    "        result = df['id'].iloc[game_indices]\n",
    "    except:\n",
    "        return [0]\n",
    "    return list(result)"
   ]
  },
  {
   "cell_type": "code",
   "execution_count": null,
   "metadata": {},
   "outputs": [],
   "source": [
    "# test\n",
    "recommend(47810)"
   ]
  },
  {
   "cell_type": "code",
   "execution_count": null,
   "metadata": {},
   "outputs": [],
   "source": [
    "# un df sin el profile\n",
    "df1 = df[['id','title']]"
   ]
  },
  {
   "cell_type": "code",
   "execution_count": null,
   "metadata": {},
   "outputs": [],
   "source": [
    "# función que crea la columna con las recomendaciones de cada juego\n",
    "df1['recommends'] = df1['id'].apply(lambda x  : recommend(x))"
   ]
  },
  {
   "cell_type": "code",
   "execution_count": null,
   "metadata": {},
   "outputs": [],
   "source": [
    "# Dataset para usar en la API listo \n",
    "df1['id'].fillna(0,inplace=True)\n",
    "df1.to_csv(r'./dataquery/model_item.csv',index=False)\n",
    "df1.info()"
   ]
  },
  {
   "cell_type": "code",
   "execution_count": 11,
   "metadata": {},
   "outputs": [],
   "source": [
    "# Función del endpoint\n",
    "import pandas as pd\n",
    "import ast\n",
    "\n",
    "def recomendacion_juego( game_id : int ):\n",
    "    # carga de archivos\n",
    "    df = pd.read_csv(r'./dataquery/model_item.csv')\n",
    "\n",
    "    if game_id not in df['id'].values:\n",
    "        return 'error'\n",
    "\n",
    "    # Obtiene la lista de recomendaciones\n",
    "    result = df[df['id'] == game_id]['recommends'].iloc[0]\n",
    "\n",
    "    try:\n",
    "        result = ast.literal_eval(result)\n",
    "    except (SyntaxError, ValueError):\n",
    "        print('No se puede convertir a lista')\n",
    "        return 'error'\n",
    "\n",
    "    response =[]\n",
    "    item_buscado = df[df['id'] == game_id].iloc[0]\n",
    "    \n",
    "    for item_id in result:\n",
    "        # Obtiene la información del juego recomendado\n",
    "        item_info = df[df['id'] == item_id].iloc[0]  \n",
    "\n",
    "        response.append({'game_id': int(item_info['id']), \n",
    "                         'title': item_info['title']})\n",
    "    dict_respuesta = {'titulo_buscado': item_buscado['title'], 'results':response}  \n",
    "\n",
    "    return dict_respuesta"
   ]
  },
  {
   "cell_type": "code",
   "execution_count": 12,
   "metadata": {},
   "outputs": [
    {
     "data": {
      "text/plain": [
       "{'titulo_buscado': 'Dragon Age: Origins - Ultimate Edition',\n",
       " 'results': [{'game_id': 47730, 'title': 'Dragon Age™: Origins Awakening'},\n",
       "  {'game_id': 17450, 'title': 'Dragon Age: Origins'},\n",
       "  {'game_id': 17460, 'title': 'Mass Effect'},\n",
       "  {'game_id': 7110, 'title': 'Jade Empire™: Special Edition'},\n",
       "  {'game_id': 24980, 'title': 'Mass Effect 2'}]}"
      ]
     },
     "execution_count": 12,
     "metadata": {},
     "output_type": "execute_result"
    }
   ],
   "source": [
    "# test\n",
    "recomendacion_juego(47810)"
   ]
  }
 ],
 "metadata": {
  "kernelspec": {
   "display_name": "env_python_3.10",
   "language": "python",
   "name": "python3"
  },
  "language_info": {
   "codemirror_mode": {
    "name": "ipython",
    "version": 3
   },
   "file_extension": ".py",
   "mimetype": "text/x-python",
   "name": "python",
   "nbconvert_exporter": "python",
   "pygments_lexer": "ipython3",
   "version": "3.10.11"
  },
  "orig_nbformat": 4
 },
 "nbformat": 4,
 "nbformat_minor": 2
}

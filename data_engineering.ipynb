{
 "cells": [
  {
   "cell_type": "markdown",
   "metadata": {},
   "source": [
    "# ETL del proyecto Steam_Recomendations"
   ]
  },
  {
   "cell_type": "markdown",
   "metadata": {},
   "source": [
    "## 1. Extraccion"
   ]
  },
  {
   "cell_type": "code",
   "execution_count": 4,
   "metadata": {},
   "outputs": [],
   "source": [
    "import pandas as pd\n",
    "import numpy as np\n",
    "import ast\n",
    "\n",
    "def load_json_lines(file_path):\n",
    "    data = []\n",
    "    with open(file_path, \"r\", encoding=\"utf-8\") as file:\n",
    "        for line in file:\n",
    "            data.append(ast.literal_eval(line))\n",
    "    return pd.DataFrame(data)\n",
    "\n",
    "# Cargar archivos\n",
    "df_output = pd.read_json(\"./datasets/output_steam_games.json\", lines=True)\n",
    "df_user_rev = load_json_lines(\"./datasets/australian_user_reviews.json\")\n",
    "df_user_items = load_json_lines(\"./datasets/australian_users_items.json\")\n",
    "\n"
   ]
  },
  {
   "cell_type": "code",
   "execution_count": 5,
   "metadata": {},
   "outputs": [],
   "source": [
    "# archives games\n",
    "df_output = df_output.dropna(how='all')\n",
    "df_output.to_csv(r'./datasets/steam_games.csv',index=False)"
   ]
  },
  {
   "cell_type": "code",
   "execution_count": 5,
   "metadata": {},
   "outputs": [],
   "source": [
    "# archivo items\n",
    "expanded_records = []\n",
    "\n",
    "for index,row in df_user_items.iterrows():\n",
    "    user_id  = row['user_id']\n",
    "    steam_id = row['steam_id']\n",
    "    user_url = row['user_url']\n",
    "    items_count = row['items_count']\n",
    "    items_list = row['items']\n",
    "\n",
    "    for it in items_list:\n",
    "        # diccionario del nuevo df expandido\n",
    "        new_item = {    'user_id'  : user_id,\n",
    "                        'items_count':items_count,\n",
    "                        'steam_id' : steam_id,\n",
    "                        'user_url' : user_url,\n",
    "                        **it  \n",
    "                    }\n",
    "        expanded_records.append(new_item)\n",
    "\n",
    "df_exp_items = pd.DataFrame(expanded_records)\n",
    "df_exp_items.to_csv(r'./datasets/aus_users_items.csv',index=False)\n"
   ]
  },
  {
   "cell_type": "code",
   "execution_count": 3,
   "metadata": {},
   "outputs": [],
   "source": [
    "# archivo reviews\n",
    "expanded_records = []\n",
    "\n",
    "for index,row in df_user_rev.iterrows():\n",
    "    user_id  = row['user_id']\n",
    "    user_url = row['user_url']\n",
    "\n",
    "    review_list = row['reviews']\n",
    "\n",
    "    for it in review_list:\n",
    "        # diccionario del nuevo df expandido\n",
    "        new_item = {    'user_id'  : user_id ,\n",
    "                        'user_url' : user_url,\n",
    "                        **it\n",
    "                    }\n",
    "        expanded_records.append(new_item)\n",
    "\n",
    "df_exp_revs = pd.DataFrame(expanded_records)\n",
    "df_exp_revs.to_csv(r'./datasets/aus_user_revs.csv',index=False)\n",
    "\n"
   ]
  }
 ],
 "metadata": {
  "kernelspec": {
   "display_name": "Python 3",
   "language": "python",
   "name": "python3"
  },
  "language_info": {
   "codemirror_mode": {
    "name": "ipython",
    "version": 3
   },
   "file_extension": ".py",
   "mimetype": "text/x-python",
   "name": "python",
   "nbconvert_exporter": "python",
   "pygments_lexer": "ipython3",
   "version": "3.10.8"
  },
  "orig_nbformat": 4
 },
 "nbformat": 4,
 "nbformat_minor": 2
}
